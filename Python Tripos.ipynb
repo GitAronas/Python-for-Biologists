{
 "cells": [
  {
   "cell_type": "markdown",
   "id": "bcf3e321-ef58-4522-a53e-dc3706709814",
   "metadata": {},
   "source": [
    "# Python Tripos"
   ]
  },
  {
   "cell_type": "markdown",
   "id": "cb58eb81-a837-436b-91ab-2f863391a2b5",
   "metadata": {},
   "source": [
    "## 1. Logistic growth model"
   ]
  },
  {
   "cell_type": "code",
   "execution_count": 9,
   "id": "0c94eabf-1858-45f2-8977-34fc80c70bc8",
   "metadata": {},
   "outputs": [
    {
     "name": "stdout",
     "output_type": "stream",
     "text": [
      " 0 : 0.43\n",
      " 1 : 0.76\n",
      " 2 : 0.57\n",
      " 3 : 0.76\n",
      " 4 : 0.56\n",
      " 5 : 0.76\n",
      " 6 : 0.56\n",
      " 7 : 0.76\n",
      " 8 : 0.56\n",
      " 9 : 0.76\n",
      "10 : 0.56\n",
      "11 : 0.76\n",
      "12 : 0.56\n",
      "13 : 0.76\n",
      "14 : 0.56\n",
      "15 : 0.76\n",
      "16 : 0.56\n",
      "17 : 0.76\n",
      "18 : 0.56\n",
      "19 : 0.76\n",
      "20 : 0.56\n"
     ]
    }
   ],
   "source": [
    "p = 0.43\n",
    "r = 3.1\n",
    "y = 20\n",
    "\n",
    "g = []\n",
    "\n",
    "for i in range(y + 1):\n",
    "    g.append(p)\n",
    "    p = r * p * (1 - p)\n",
    "\n",
    "for i, p in enumerate(g):\n",
    "    print(f'{i:2} : {p:>.2f}')\n"
   ]
  },
  {
   "cell_type": "markdown",
   "id": "bab2f0a0-9f32-4b0f-b5b1-3d755c9081f7",
   "metadata": {},
   "source": [
    "## 2. FASTA to GenBank"
   ]
  },
  {
   "cell_type": "code",
   "execution_count": null,
   "id": "61f964b1-a84d-4bb6-a6a0-0a215448aa63",
   "metadata": {},
   "outputs": [],
   "source": [
    "# GenBank file format\n",
    "'''\n",
    "ORIGIN      \n",
    "        1 gaagtagaag gcgtgggccg cctggtgaac cgaattgttg agtgaggaaa cagcgaaatg\n",
    "       61 aaaaaagtaa atcattggat caacggcaaa aatgttgcag gtaacgacta cttcctgacc\n",
    "//\n",
    "'''\n",
    "\n",
    "filename = ''\n",
    "\n",
    "ROWLEN = 60\n",
    "COLLEN = 10\n",
    "\n",
    "\n",
    "from os import path\n",
    "\n",
    "with open(filename, 'r') as f:\n",
    "    seq = ''.join(line.strip() for line in f.readlines() if '>' not in line)\n",
    "\n",
    "with open(path.splitext(filename)[0] + '.GenBank', 'w') as f:\n",
    "    f.write('ORIGIN')\n",
    "    \n",
    "    for i in range(0, len(seq), ROWLEN):\n",
    "        s = seq[i: i+ROWLEN]\n",
    "        s = ' '.join(s[j:j+COLLEN] for j in range(0, len(s), COLLEN))\n",
    "\n",
    "        f.write(f'{i + 1:>9} {s}')\n",
    "\n",
    "    f.write('//')"
   ]
  },
  {
   "cell_type": "markdown",
   "id": "8223d9fb-9df5-4768-aecd-4fb865a703c3",
   "metadata": {},
   "source": [
    "## 3. TATA-Pribnow box"
   ]
  },
  {
   "cell_type": "code",
   "execution_count": null,
   "id": "2788f5ad-835d-49c7-88ed-262a78d295f2",
   "metadata": {},
   "outputs": [],
   "source": [
    "seq = ''\n",
    "\n",
    "boxlen = 6\n",
    "boxes = ('TATAAA', 'TATAAT')\n",
    "\n",
    "for i in range(len(seq) - boxlen + 1):\n",
    "    s = seq[i: i + boxlen]\n",
    "\n",
    "    if s in boxes:\n",
    "        print(f'{i:>6}\\t{s}')"
   ]
  },
  {
   "cell_type": "markdown",
   "id": "b1698498-4d56-478d-9fd3-a9785567f449",
   "metadata": {},
   "source": [
    "## 4. TATA boxes in ebola virus genome"
   ]
  },
  {
   "cell_type": "code",
   "execution_count": 1,
   "id": "b8df1afd-f23b-47f8-89b9-f10a8361319f",
   "metadata": {},
   "outputs": [
    {
     "name": "stdout",
     "output_type": "stream",
     "text": [
      "   258\tTATAAA\n",
      "  1395\tTATAAT\n",
      "  8712\tTATAAA\n",
      "  9086\tTATAAT\n",
      "  9921\tTATAAT\n",
      " 11694\tTATAAT\n",
      " 12879\tTATAAT\n",
      " 13763\tTATAAA\n",
      " 14190\tTATAAT\n"
     ]
    }
   ],
   "source": [
    "filename = 'EboBund-112 2012.fasta'\n",
    "\n",
    "boxlen = 6\n",
    "boxes = ('TATAAA', 'TATAAT')\n",
    "\n",
    "with open(filename, 'r') as f:\n",
    "    seq = ''.join(line.strip() for line in f.readlines() if '>' not in line)\n",
    "\n",
    "for i in range(len(seq) - boxlen + 1):\n",
    "    s = seq[i: i + boxlen]\n",
    "\n",
    "    if s in boxes:\n",
    "        print(f'{i:>6}\\t{s}')"
   ]
  },
  {
   "cell_type": "markdown",
   "id": "7c77cd93-a168-4033-a4c8-9017f77e2531",
   "metadata": {},
   "source": [
    "## 5. Palindromic restriction sites in Zika virus genome"
   ]
  },
  {
   "cell_type": "markdown",
   "id": "aef623fb-e377-4e3a-94bf-7a5c03da415e",
   "metadata": {},
   "source": [
    "### 5.1"
   ]
  },
  {
   "cell_type": "code",
   "execution_count": 10,
   "id": "a392f08b-b95c-4876-aefd-033c4da1bd90",
   "metadata": {},
   "outputs": [
    {
     "name": "stdout",
     "output_type": "stream",
     "text": [
      "GCTAGTGTATGCATGAGCGTAGGCGATGTGGCGCCGAGCTGAGGTGATCACGTGATGTGCTAGTCG\n",
      "CGATCACATACGTACTCGCATCCGCTACACCGCGGCTCGACTCCACTAGTGCACTACACGATCAGC\n",
      "\n",
      "ATGCAT TACGTA :  8\n",
      "GGCGCC CCGCGG : 29\n",
      "TGATCA ACTAGT : 44\n",
      "CACGTG GTGCAC : 48\n"
     ]
    }
   ],
   "source": [
    "seqf = \"GCTAGTGTATGCATGAGCGTAGGCGATGTGGCGCCGAGCTGAGGTGATCACGTGATGTGCTAGTCG\"\n",
    "seqr = seqf.translate(str.maketrans('ACGT', 'TGCA'))\n",
    "\n",
    "sitelen = 6\n",
    "\n",
    "print(seqf)\n",
    "print(seqr)\n",
    "print()\n",
    "\n",
    "for i in range(len(seqf) - sitelen  + 1):\n",
    "    s1 = seqf[i:i+sitelen]\n",
    "    s2 = seqr[i:i+sitelen]\n",
    "    \n",
    "    if s2[::-1] == s1:\n",
    "        print(f'{s1} {s2} : {i:>2}')"
   ]
  },
  {
   "cell_type": "markdown",
   "id": "d268e27d-396d-4b13-b050-470084495cc6",
   "metadata": {},
   "source": [
    "## 5.2"
   ]
  },
  {
   "cell_type": "code",
   "execution_count": 9,
   "id": "af298811-5bb6-459a-a1b7-9b67c8b00026",
   "metadata": {},
   "outputs": [
    {
     "name": "stdout",
     "output_type": "stream",
     "text": [
      "TCCGGA AGGCCT :    22\n",
      "GGATCC CCTAGG :    28\n",
      "TCCGGA AGGCCT :    31\n",
      "AGATCT TCTAGA :   257\n",
      "CCATGG GGTACC :   358\n",
      "ACATGT TGTACA :   397\n",
      "ACATGT TGTACA :   493\n",
      "TCTAGA AGATCT :   636\n",
      "TTGCAA AACGTT :   678\n",
      "TGATCA ACTAGT :   730\n",
      "CCCGGG GGGCCC :   762\n",
      "TCATGA AGTACT :   838\n",
      "GTCGAC CAGCTG :   990\n",
      "ATCGAT TAGCTA :  1058\n",
      "GATATC CTATAG :  1061\n",
      "ACATGT TGTACA :  1212\n",
      "AAGCTT TTCGAA :  1409\n",
      "AGGCCT TCCGGA :  1439\n",
      "AGATCT TCTAGA :  1454\n",
      "GTGCAC CACGTG :  1494\n",
      "TCATGA AGTACT :  1511\n",
      "GCATGC CGTACG :  1532\n",
      "GAATTC CTTAAG :  1587\n",
      "GAGCTC CTCGAG :  1669\n",
      "TCTAGA AGATCT :  1673\n",
      "TGGCCA ACCGGT :  1715\n",
      "AAGCTT TTCGAA :  1746\n",
      "GTGCAC CACGTG :  1778\n",
      "CAGCTG GTCGAC :  1810\n",
      "GGCGCC CCGCGG :  2106\n",
      "ACCGGT TGGCCA :  2458\n",
      "AGGCCT TCCGGA :  2512\n",
      "GAGCTC CTCGAG :  2589\n",
      "CCATGG GGTACC :  2705\n",
      "GTCGAC CAGCTG :  2772\n",
      "CTTAAG GAATTC :  2874\n",
      "CAGCTG GTCGAC :  2926\n",
      "GGGCCC CCCGGG :  3010\n",
      "ACATGT TGTACA :  3033\n",
      "TGGCCA ACCGGT :  3042\n",
      "CCATGG GGTACC :  3168\n",
      "CATATG GTATAC :  3438\n",
      "TCATGA AGTACT :  3523\n",
      "TCATGA AGTACT :  3553\n",
      "TGGCCA ACCGGT :  3586\n",
      "AAGCTT TTCGAA :  3591\n",
      "TTTAAA AAATTT :  3672\n",
      "CAATTG GTTAAC :  3716\n",
      "GCATGC CGTACG :  3736\n",
      "GCTAGC CGATCG :  3743\n",
      "ATTAAT TAATTA :  3810\n",
      "CTCGAG GAGCTC :  3910\n",
      "CAGCTG GTCGAC :  4036\n",
      "ATTAAT TAATTA :  4059\n",
      "GTGCAC CACGTG :  4147\n",
      "CCATGG GGTACC :  4195\n",
      "CTGCAG GACGTC :  4201\n",
      "ACATGT TGTACA :  4252\n",
      "TGTACA ACATGT :  4255\n",
      "TGGCCA ACCGGT :  4414\n",
      "TAGCTA ATCGAT :  4438\n",
      "CTGCAG GACGTC :  4453\n",
      "GGCGCC CCGCGG :  4497\n",
      "TGTACA ACATGT :  4558\n",
      "AATATT TTATAA :  4835\n",
      "CTGCAG GACGTC :  4885\n",
      "TGATCA ACTAGT :  4957\n",
      "TTCGAA AAGCTT :  5028\n",
      "TCCGGA AGGCCT :  5143\n",
      "AGGCCT TCCGGA :  5194\n",
      "TAATTA ATTAAT :  5324\n",
      "GAGCTC CTCGAG :  5528\n",
      "GGCGCC CCGCGG :  5736\n",
      "GGGCCC CCCGGG :  5823\n",
      "GCATGC CGTACG :  5840\n",
      "ACATGT TGTACA :  5905\n",
      "TCATGA AGTACT :  6097\n",
      "GCTAGC CGATCG :  6125\n",
      "GAATTC CTTAAG :  6324\n",
      "AGGCCT TCCGGA :  6459\n",
      "TTATAA AATATT :  6464\n",
      "AGATCT TCTAGA :  6723\n",
      "CCATGG GGTACC :  6868\n",
      "CAGCTG GTCGAC :  6949\n",
      "TGGCCA ACCGGT :  7003\n",
      "ATGCAT TACGTA :  7053\n",
      "TAGCTA ATCGAT :  7126\n",
      "ACATGT TGTACA :  7153\n",
      "AGGCCT TCCGGA :  7169\n",
      "CAGCTG GTCGAC :  7213\n",
      "TCATGA AGTACT :  7222\n",
      "GAGCTC CTCGAG :  7381\n",
      "TGATCA ACTAGT :  7387\n",
      "TTATAA AATATT :  7625\n",
      "TGGCCA ACCGGT :  7690\n",
      "CCCGGG GGGCCC :  7714\n",
      "GATATC CTATAG :  7753\n",
      "CTGCAG GACGTC :  7758\n",
      "TCATGA AGTACT :  7874\n",
      "GACGTC CTGCAG :  7938\n",
      "CCATGG GGTACC :  8128\n",
      "CCATGG GGTACC :  8465\n",
      "ACGCGT TGCGCA :  8723\n",
      "TGCGCA ACGCGT :  8758\n",
      "AATATT TTATAA :  8783\n",
      "GGGCCC CCCGGG :  8845\n",
      "CAGCTG GTCGAC :  8894\n",
      "TGTACA ACATGT :  8902\n",
      "ACATGT TGTACA :  8977\n",
      "TTGCAA AACGTT :  9084\n",
      "TCTAGA AGATCT :  9104\n",
      "CAGCTG GTCGAC :  9298\n",
      "TCCGGA AGGCCT :  9412\n",
      "ATCGAT TAGCTA :  9561\n",
      "CAATTG GTTAAC :  9656\n",
      "GAGCTC CTCGAG :  9763\n",
      "TTGCAA AACGTT :  9814\n",
      "CATATG GTATAC :  9823\n",
      "TGCGCA ACGCGT :  9827\n",
      "GGTACC CCATGG :  9914\n",
      "CCATGG GGTACC :  9944\n",
      "CATATG GTATAC : 10020\n",
      "GGATCC CCTAGG : 10095\n",
      "TGCGCA ACGCGT : 10162\n"
     ]
    }
   ],
   "source": [
    "filename = 'zika.fasta'\n",
    "\n",
    "sitelen = 6\n",
    "\n",
    "with open(filename, 'r') as f:\n",
    "    seqf = ''.join(line.strip() for line in f.readlines() if '>' not in line)\n",
    "\n",
    "seqr = seqf.translate(str.maketrans('ACGT', 'TGCA'))\n",
    "\n",
    "for i in range(len(seqf) - sitelen  + 1):\n",
    "    s1 = seqf[i:i+sitelen]\n",
    "    s2 = seqr[i:i+sitelen]\n",
    "    \n",
    "    if s2[::-1] == s1:\n",
    "        print(f'{s1} {s2} : {i:>5}')"
   ]
  }
 ],
 "metadata": {
  "kernelspec": {
   "display_name": "Python 3 (ipykernel)",
   "language": "python",
   "name": "python3"
  },
  "language_info": {
   "codemirror_mode": {
    "name": "ipython",
    "version": 3
   },
   "file_extension": ".py",
   "mimetype": "text/x-python",
   "name": "python",
   "nbconvert_exporter": "python",
   "pygments_lexer": "ipython3",
   "version": "3.11.4"
  }
 },
 "nbformat": 4,
 "nbformat_minor": 5
}
