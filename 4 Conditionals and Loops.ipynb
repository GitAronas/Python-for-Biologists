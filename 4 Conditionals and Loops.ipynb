{
 "cells": [
  {
   "cell_type": "markdown",
   "id": "84d936ea-70eb-48a8-ac76-89082c4c6d63",
   "metadata": {},
   "source": [
    "# Conditionals and Loops - Exercises IV"
   ]
  },
  {
   "cell_type": "markdown",
   "id": "1af60f22-cc17-4c80-9979-8fe689a7d8fc",
   "metadata": {},
   "source": [
    "## 1. Searching for patterns"
   ]
  },
  {
   "cell_type": "code",
   "execution_count": 6,
   "id": "8f424a54-1b39-4810-b87c-aedbf9a6cf4f",
   "metadata": {},
   "outputs": [
    {
     "name": "stdout",
     "output_type": "stream",
     "text": [
      "3\n",
      "20\n",
      "33\n"
     ]
    }
   ],
   "source": [
    "dna = 'GACTATACGAATGTGCTCGGTATAAGAATGAGCTATATATATGATGT'\n",
    "p = 'TATAxxxATGxxxT'\n",
    "\n",
    "for i in range(len(dna) - len(p) + 1):\n",
    "    j = i + 7\n",
    "\n",
    "    if dna[i:i+4] == 'TATA' and dna[j:j+3] == 'ATG' and dna[i+13] == 'T':\n",
    "        print(i)"
   ]
  },
  {
   "cell_type": "markdown",
   "id": "2468bdfc-0da3-4f13-928a-d12f98b20b3a",
   "metadata": {},
   "source": [
    "## 2. Codons in array"
   ]
  },
  {
   "cell_type": "code",
   "execution_count": 48,
   "id": "6ceed371-a77f-4888-9699-079a9efc514e",
   "metadata": {},
   "outputs": [
    {
     "name": "stdout",
     "output_type": "stream",
     "text": [
      "['ggg', 'tgc', 'gac', 'gat', 'tca', 'ttg', 'ttt', 'tcg', 'gac', 'aag', 'tgg', 'ata', 'ggc', 'aac', 'cac', 'tac', 'cgg', 'tgg', 'att', 'gtc', 'a']\n"
     ]
    }
   ],
   "source": [
    "s = 'gggtgcgacgattcattgttttcggacaagtggataggcaaccactaccggtggattgtca'\n",
    "\n",
    "l = [s[i:i+3] for i in range(0, len(s), 3)]\n",
    "\n",
    "print(l)"
   ]
  },
  {
   "cell_type": "markdown",
   "id": "09bc7c7a-bb01-41be-997b-ce4d58fb746b",
   "metadata": {},
   "source": [
    "## 3. Logistic growth with while and for with range\n",
    "\n",
    "$x_{n+1} = r \\cdot x_n \\cdot (1 - x_n)$"
   ]
  },
  {
   "cell_type": "code",
   "execution_count": 2,
   "id": "8c59279c-8cac-4bf3-b71b-0469e90424d5",
   "metadata": {},
   "outputs": [
    {
     "name": "stdout",
     "output_type": "stream",
     "text": [
      " 0: 0.43\n",
      " 1: 0.91\n",
      " 2: 0.29\n",
      " 3: 0.77\n",
      " 4: 0.66\n",
      " 5: 0.84\n",
      " 6: 0.50\n",
      " 7: 0.93\n",
      " 8: 0.23\n",
      " 9: 0.67\n",
      "10: 0.82\n",
      "11: 0.54\n",
      "12: 0.93\n"
     ]
    }
   ],
   "source": [
    "r = 3.73\n",
    "x = 0.43\n",
    "\n",
    "g = 0\n",
    "\n",
    "print(f'{g:2}: {x:.2f}')\n",
    "\n",
    "while g < 12:\n",
    "    g += 1\n",
    "    x = r * x * (1 - x)\n",
    "    print(f'{g:2}: {x:.2f}')"
   ]
  },
  {
   "cell_type": "code",
   "execution_count": 3,
   "id": "fc554588-2451-4ffd-b616-7650d5c0d001",
   "metadata": {},
   "outputs": [
    {
     "name": "stdout",
     "output_type": "stream",
     "text": [
      " 0: 0.43\n",
      " 1: 0.91\n",
      " 2: 0.29\n",
      " 3: 0.77\n",
      " 4: 0.66\n",
      " 5: 0.84\n",
      " 6: 0.50\n",
      " 7: 0.93\n",
      " 8: 0.23\n",
      " 9: 0.67\n",
      "10: 0.82\n",
      "11: 0.54\n",
      "12: 0.93\n"
     ]
    }
   ],
   "source": [
    "r = 3.73\n",
    "x = 0.43\n",
    "\n",
    "print(f'{0:2}: {x:.2f}')\n",
    "\n",
    "for g in range(1, 13):\n",
    "    x = r * x * (1 - x)\n",
    "    print(f'{g:2}: {x:.2f}')"
   ]
  },
  {
   "cell_type": "markdown",
   "id": "8e504de3-f890-4098-a620-9d29cffc0fdc",
   "metadata": {},
   "source": [
    "## 4. Locating substrings - while loop"
   ]
  },
  {
   "cell_type": "code",
   "execution_count": 63,
   "id": "2c14d70e-432e-4d01-b339-e0e067452222",
   "metadata": {},
   "outputs": [
    {
     "name": "stdout",
     "output_type": "stream",
     "text": [
      "DNA sequence: CGGACACACAAAAAGAATGAAGGATTTTGAATCTTTATTGTGTGCGAGTAACTACGAGGAAGATTAAAGA\n",
      "Substring: TT\n",
      "str.count(): 5\n",
      "Our while count: 5\n"
     ]
    }
   ],
   "source": [
    "# Non-overlapping count\n",
    "DNA_seq = 'CGGACACACAAAAAGAATGAAGGATTTTGAATCTTTATTGTGTGCGAGTAACTACGAGGAAGATTAAAGA'\n",
    "\n",
    "print('DNA sequence:', DNA_seq)\n",
    "\n",
    "ss = 'TT'\n",
    "print('Substring:', ss)\n",
    "\n",
    "print('str.count():', DNA_seq.count(ss))\n",
    "\n",
    "count = 0\n",
    "index = 0\n",
    "\n",
    "ssLen = len(ss)\n",
    "\n",
    "while index < len(DNA_seq):\n",
    "    if ss == DNA_seq[index: index + ssLen]:\n",
    "        count += 1\n",
    "        index += ssLen\n",
    "    else:\n",
    "        index += 1\n",
    "\n",
    "print('Our while count:', count)"
   ]
  },
  {
   "cell_type": "markdown",
   "id": "9a601dc7-bdd5-4124-9d95-bac626f7a91e",
   "metadata": {},
   "source": [
    "## 5. Locating substrings - for loop"
   ]
  },
  {
   "cell_type": "code",
   "execution_count": 74,
   "id": "c257be4a-a293-4bff-8b95-787cd570b4ea",
   "metadata": {},
   "outputs": [
    {
     "name": "stdout",
     "output_type": "stream",
     "text": [
      "DNA sequence: CGGACACACAAAAAGAATGAAGGATTTTGAATCTTTATTGTGTGCGAGTAACTACGAGGAAGATTAAAGA\n",
      "Substring: TT\n",
      "str.count(): 5\n",
      "Our for count: 5\n"
     ]
    }
   ],
   "source": [
    "# Non-overlapping count\n",
    "DNA_seq = 'CGGACACACAAAAAGAATGAAGGATTTTGAATCTTTATTGTGTGCGAGTAACTACGAGGAAGATTAAAGA'\n",
    "\n",
    "print('DNA sequence:', DNA_seq)\n",
    "\n",
    "ss = 'TT'\n",
    "print('Substring:', ss)\n",
    "\n",
    "print('str.count():', DNA_seq.count(ss))\n",
    "\n",
    "count = 0\n",
    "offset = 0\n",
    "\n",
    "ssLen = len(ss)\n",
    "\n",
    "for index in range(len(DNA_seq) - ssLen + 1):\n",
    "    if index >= offset and ss == DNA_seq[index: (t:=index + ssLen)]:\n",
    "        offset = t\n",
    "        count += 1\n",
    "\n",
    "print('Our for count:', count)"
   ]
  },
  {
   "cell_type": "markdown",
   "id": "7d7e7f7d-ed0a-4d12-88e9-f8b3b649a602",
   "metadata": {},
   "source": [
    "## 6. Timing"
   ]
  },
  {
   "cell_type": "code",
   "execution_count": 16,
   "id": "ec26045b-d33b-4802-8dcd-188081bd4cbc",
   "metadata": {},
   "outputs": [
    {
     "name": "stdout",
     "output_type": "stream",
     "text": [
      "N: 10000\n",
      "str.count time:   0.0\n",
      "while count time: 0.140625\n",
      "\n",
      "N: 100000\n",
      "str.count time:   0.0\n",
      "while count time: 1.25\n",
      "\n",
      "N: 1000000\n",
      "str.count time:   0.046875\n",
      "while count time: 12.359375\n",
      "Ratio:            263.6666666666667\n",
      "\n"
     ]
    }
   ],
   "source": [
    "from time import process_time\n",
    "\n",
    "for N in [10 ** i for i in range(4, 7)]:\n",
    "    DNA_seq = 'CGGACACACAAAAAGAATGAAGGATTTTGAATCTTTATTGTGTGCGAGTAACTACGAGGAAGATTAAAGA' * N\n",
    "    #print('DNA sequence:', DNA_seq)\n",
    "     \n",
    "    bp = 'T'\n",
    "    #print('Base pair:', bp)\n",
    "    \n",
    "    t1 = process_time()\n",
    "    #print('str.count():', DNA_seq.count(bp))\n",
    "    sc = DNA_seq.count(bp)\n",
    "    t1 = process_time() - t1\n",
    "    \n",
    "    count = 0\n",
    "    index = 0\n",
    "     \n",
    "    t2 = process_time()\n",
    "    while index < len(DNA_seq):\n",
    "        if bp == DNA_seq[index]:\n",
    "            count += 1\n",
    "        index += 1\n",
    "    t2 = process_time() - t2\n",
    "     \n",
    "    #print('Our while count:', count)\n",
    "\n",
    "    print(f'N: {N}')\n",
    "    print(f'str.count time:   {t1}')\n",
    "    print(f'while count time: {t2}')\n",
    "    \n",
    "    if t1 > 0:\n",
    "        print(f'Ratio:            {t2/t1}')\n",
    "    \n",
    "    print()"
   ]
  },
  {
   "cell_type": "markdown",
   "id": "19a176b7-780d-4f9a-ba67-894bc1376f1a",
   "metadata": {},
   "source": [
    "## 7. All codons"
   ]
  },
  {
   "cell_type": "code",
   "execution_count": 18,
   "id": "fd64ae11-be04-4767-982f-e3437873c46c",
   "metadata": {},
   "outputs": [
    {
     "name": "stdout",
     "output_type": "stream",
     "text": [
      "AAA\n",
      "AAC\n",
      "AAG\n",
      "AAT\n",
      "ACA\n",
      "ACC\n",
      "ACG\n",
      "ACT\n",
      "AGA\n",
      "AGC\n",
      "AGG\n",
      "AGT\n",
      "ATA\n",
      "ATC\n",
      "ATG\n",
      "ATT\n",
      "CAA\n",
      "CAC\n",
      "CAG\n",
      "CAT\n",
      "CCA\n",
      "CCC\n",
      "CCG\n",
      "CCT\n",
      "CGA\n",
      "CGC\n",
      "CGG\n",
      "CGT\n",
      "CTA\n",
      "CTC\n",
      "CTG\n",
      "CTT\n",
      "GAA\n",
      "GAC\n",
      "GAG\n",
      "GAT\n",
      "GCA\n",
      "GCC\n",
      "GCG\n",
      "GCT\n",
      "GGA\n",
      "GGC\n",
      "GGG\n",
      "GGT\n",
      "GTA\n",
      "GTC\n",
      "GTG\n",
      "GTT\n",
      "TAA\n",
      "TAC\n",
      "TAG\n",
      "TAT\n",
      "TCA\n",
      "TCC\n",
      "TCG\n",
      "TCT\n",
      "TGA\n",
      "TGC\n",
      "TGG\n",
      "TGT\n",
      "TTA\n",
      "TTC\n",
      "TTG\n",
      "TTT\n"
     ]
    }
   ],
   "source": [
    "b = ('A', 'C', 'G', 'T')\n",
    "\n",
    "for i in b:\n",
    "    for j in b:\n",
    "        for k in b:\n",
    "            print(f'{i}{j}{k}')"
   ]
  },
  {
   "cell_type": "markdown",
   "id": "da955fdd-c222-41af-a348-41d8779d34c6",
   "metadata": {},
   "source": [
    "## 8. Locating cutting sites of restriction enzymes"
   ]
  },
  {
   "cell_type": "code",
   "execution_count": 20,
   "id": "913f5fd8-324b-41d9-bc85-52f21376b638",
   "metadata": {},
   "outputs": [
    {
     "name": "stdout",
     "output_type": "stream",
     "text": [
      "EcoRI :\tGAATTC\tIndex: 32\n",
      "AluI :\tAGCT\tIndex: 23\n",
      "TaqI :\tTCGA\tIndex: 28\n"
     ]
    }
   ],
   "source": [
    "DNAseq = \"GGCGATGCTAGTCGCGTAGTCTAAGCTGTCGAGAATTCGGATGTCATGA\"\n",
    "\n",
    "restriction_enzymes = {\"EcoRI\" : \"GAATTC\", \n",
    "                        \"AluI\" : \"AGCT\", \n",
    "                        \"NotI\" : \"GCGGCCGC\", \n",
    "                        \"TaqI\" : \"TCGA\"\n",
    "                      }\n",
    "\n",
    "for k, v in restriction_enzymes.items():\n",
    "    i = DNAseq.find(v)\n",
    "\n",
    "    if i > -1:\n",
    "        print(f'{k} :\\t{v}\\tIndex: {i}')"
   ]
  },
  {
   "cell_type": "markdown",
   "id": "3d64b4ce-6e10-4c17-aaea-87d0744b0ee4",
   "metadata": {},
   "source": [
    "## 9. Generating random DNA sequences"
   ]
  },
  {
   "cell_type": "code",
   "execution_count": 85,
   "id": "47044d97-8964-467b-87dd-a08adbecdbe5",
   "metadata": {},
   "outputs": [
    {
     "name": "stdout",
     "output_type": "stream",
     "text": [
      "CCTGAACGCCCCTTAGAAATAGCGATCCCAGATGACAGAGTAACGGGAGCGACGTCTACAGTTCTTCTGGCCACAAGCCGTCCTCGCCTGGATTCTAGACGCACCAGGTTCTTCTCCTAGCCGGTCCAATCCTAACCAAGTTGGAGAGGGATGCGAGGCCTGCGAAGTCGTCCACTCGACCGGCTCAGAAGAGGGTATGGCTGGAGACCGTAAGCACAAATGGCGGACCTGCTAAAACGGCCAACTTCCTGACAACATGAAGAAGGAATCATACCTAAAGCTAAGTGAAAAACATTATGGTCATGTTGGACAATTAGTATACTTCAGTGCGGTAATAGTTTTTCGTCATGGACCATAAAGCACGCCTGGGCTTATACACAAGTTTCCCTAAAAGAATTAAATGACTTACTGTATCACTTAGCGCTAACCTGAGTTTCCCGCGTGGGTCCGGCATCGTGGATCCCGACATGCATAGCGTTGCTGCTGTGAAGACGTGCGCTAACCTATCCATGTAACTTGAACTTGGTTCCACACTTGGAAACTCCGGGCCGCTGTGCAACCTGTCCCGACATTAATTCATAGCGAGGCATTTCGGCGTATGTGCACACAAGGTCAGTTGCAGGGTCCGGGCTTAAGGGAGGTTATTAAGGAGCGCTACCGACTCGGGGTTGGGTGTGTCGGCGAAGTGTCACACATTCCTTTGCGTTGCAAGTAGGACGGTCGCCCTACAACTAACATATCTGCAAGCTGCAGGTCGCTACACTGCTAGACGACAACCGGAGGGGCAATGCATAAAAGAGCACATTAGACGGCTCGAGTACCGTGTTCCGATTTGTAGTCCCGTACCCTAAGGGTCCTGTACCTCTTCCTGGTCCCTTTGGACACGACGAAAGGACGTTCTACTCAGCCGCATTTACTACTGACACGGCAAGGGGTGATCACGCGATGCCCGCTCTAGCGCCGCAGTGGTGCGTTATGTATGAGCCCCCAGAATCCTGCTA\n",
      "\n",
      "A: 24.88%\n",
      "C: 26.17%\n",
      "G: 25.87%\n",
      "T: 23.08%\n"
     ]
    }
   ],
   "source": [
    "bases = ('A', 'C', 'G', 'T')\n",
    "\n",
    "from random import randint\n",
    "\n",
    "l = 1001\n",
    "\n",
    "DNA = []\n",
    "\n",
    "for _ in range(l):\n",
    "    DNA.append(bases[randint(0, 3)])\n",
    "\n",
    "print(''.join(DNA))\n",
    "print()\n",
    "print(f'A: {DNA.count(\"A\") / l:.2%}')\n",
    "print(f'C: {DNA.count(\"C\") / l:.2%}')\n",
    "print(f'G: {DNA.count(\"G\") / l:.2%}')\n",
    "print(f'T: {DNA.count(\"T\") / l:.2%}')"
   ]
  },
  {
   "cell_type": "markdown",
   "id": "1c4604b0-2e59-4e72-b448-f754b38d6156",
   "metadata": {},
   "source": [
    "## 10. Counting k-mers"
   ]
  },
  {
   "cell_type": "code",
   "execution_count": 1,
   "id": "d1453085-c1ad-4780-ade3-e6c755616f55",
   "metadata": {},
   "outputs": [
    {
     "name": "stdout",
     "output_type": "stream",
     "text": [
      "gggt :  1\n",
      "ggtg :  2\n",
      "gtgc :  1\n",
      "tgcg :  1\n",
      "gcga :  1\n",
      "cgac :  1\n",
      "gacg :  1\n",
      "acga :  1\n",
      "cgat :  1\n",
      "gatt :  2\n",
      "attc :  1\n",
      "ttca :  1\n",
      "tcat :  1\n",
      "catt :  1\n",
      "attg :  2\n",
      "ttgt :  2\n",
      "tgtt :  1\n",
      "gttt :  1\n",
      "tttt :  1\n",
      "tttc :  1\n",
      "ttcg :  1\n",
      "tcgg :  1\n",
      "cgga :  1\n",
      "ggac :  1\n",
      "gaca :  1\n",
      "acaa :  1\n",
      "caag :  1\n",
      "aagt :  1\n",
      "agtg :  1\n",
      "gtgg :  2\n",
      "tgga :  2\n",
      "ggat :  2\n",
      "gata :  1\n",
      "atag :  1\n",
      "tagg :  1\n",
      "aggc :  1\n",
      "ggca :  1\n",
      "gcaa :  1\n",
      "caac :  1\n",
      "aacc :  1\n",
      "acca :  1\n",
      "ccac :  1\n",
      "cact :  1\n",
      "acta :  1\n",
      "ctac :  1\n",
      "tacc :  1\n",
      "accg :  1\n",
      "ccgg :  1\n",
      "cggt :  1\n",
      "tgtc :  1\n"
     ]
    }
   ],
   "source": [
    "DNA_seq = 'gggtgcgacgattcattgttttcggacaagtggataggcaaccactaccggtggattgtc'\n",
    "\n",
    "from collections import Counter\n",
    "\n",
    "k = 4\n",
    "\n",
    "a = [DNA_seq[i - k: i] for i in range(k, len(DNA_seq) + 1)]\n",
    "\n",
    "counts = Counter(a)\n",
    "\n",
    "for k, v in counts.items():\n",
    "    print(f'{k} :  {v}')"
   ]
  },
  {
   "cell_type": "markdown",
   "id": "18f3ec0c-1094-4efc-81a7-664215a4b130",
   "metadata": {},
   "source": [
    "## 11. Generating random human DNA sequences"
   ]
  },
  {
   "cell_type": "code",
   "execution_count": 5,
   "id": "45673936-b343-46c5-a5d0-7b1f2b99a7e2",
   "metadata": {},
   "outputs": [
    {
     "name": "stdout",
     "output_type": "stream",
     "text": [
      "GATTTTAGAAGGTTGACTGATAGGGTCATCAAAAACAGCGATTCCTGGCA\n"
     ]
    }
   ],
   "source": [
    "from random import choices\n",
    "\n",
    "dnaLen = 50\n",
    "\n",
    "DNA = ''.join(choices('ACGT', weights=(29, 21, 21, 29), k=dnaLen))\n",
    "\n",
    "print(DNA)"
   ]
  },
  {
   "cell_type": "markdown",
   "id": "3d7d5e7a-b725-45e9-b194-1e944d81be11",
   "metadata": {},
   "source": [
    "## 12. Random mutations"
   ]
  },
  {
   "cell_type": "code",
   "execution_count": 23,
   "id": "552ca0a8-8183-4b8e-be7a-a92caa90915d",
   "metadata": {},
   "outputs": [
    {
     "name": "stdout",
     "output_type": "stream",
     "text": [
      "A replaced A at location 22\n",
      "C inserted at location 14\n",
      "T deleted at location 42\n",
      "\n",
      "GGCGATGCTAGTCGCGTAGTCTAAGCTGTCGAGAATTCGGATGTCATGA\n",
      "0123456789012345678901234567890123456789012345678\n",
      "GGCGATGCTAGTCGCCGTAGTCTAAGCTGTCGAGAATTCGGAGTCATGA\n"
     ]
    }
   ],
   "source": [
    "DNAseq = \"GGCGATGCTAGTCGCGTAGTCTAAGCTGTCGAGAATTCGGATGTCATGA\"\n",
    "\n",
    "m = ('A', 'C', 'G', 'T')\n",
    "\n",
    "from random import randint, choice\n",
    "\n",
    "mDNA = [*DNAseq]\n",
    "dlen = len(mDNA) - 1\n",
    "\n",
    "# Replace\n",
    "c = choice(m)\n",
    "i = randint(0, dlen)\n",
    "print(f'{c} replaced {mDNA[i]} at location {i}')\n",
    "mDNA[i] = c\n",
    "\n",
    "# Insert\n",
    "c = choice(m)\n",
    "i = randint(0, dlen)\n",
    "print(f'{c} inserted at location {i}')\n",
    "mDNA.insert(i, c)\n",
    "\n",
    "# Delete\n",
    "i = randint(0, dlen)\n",
    "c = mDNA.pop(i)\n",
    "print(f'{c} deleted at location {i}')\n",
    "\n",
    "print()\n",
    "\n",
    "print(DNAseq)\n",
    "print(''.join([str(i % 10) for i in range(dlen + 1)]))\n",
    "print(''.join(mDNA))"
   ]
  }
 ],
 "metadata": {
  "kernelspec": {
   "display_name": "Python 3 (ipykernel)",
   "language": "python",
   "name": "python3"
  },
  "language_info": {
   "codemirror_mode": {
    "name": "ipython",
    "version": 3
   },
   "file_extension": ".py",
   "mimetype": "text/x-python",
   "name": "python",
   "nbconvert_exporter": "python",
   "pygments_lexer": "ipython3",
   "version": "3.11.4"
  }
 },
 "nbformat": 4,
 "nbformat_minor": 5
}
