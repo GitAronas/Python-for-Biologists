{
 "cells": [
  {
   "cell_type": "markdown",
   "id": "4b059655-1d48-47e8-a980-4b2fc50afebb",
   "metadata": {},
   "source": [
    "# Data Types - Exercises II"
   ]
  },
  {
   "cell_type": "markdown",
   "id": "6a95ac86-c811-426f-b48a-3a4775ea70b2",
   "metadata": {},
   "source": [
    "## 1. Arithmetic puzzle"
   ]
  },
  {
   "cell_type": "code",
   "execution_count": 5,
   "id": "03590e20-69f3-4c01-9ef0-cb4f53c2963a",
   "metadata": {},
   "outputs": [
    {
     "data": {
      "text/plain": [
       "1.1102230246251565e-16"
      ]
     },
     "execution_count": 5,
     "metadata": {},
     "output_type": "execute_result"
    }
   ],
   "source": [
    "x = 0.1 * 10.0\n",
    "y = 0.1 + 0.1 + 0.1 + 0.1 + 0.1 + 0.1 + 0.1 + 0.1 + 0.1 + 0.1\n",
    "\n",
    "x - y"
   ]
  },
  {
   "cell_type": "markdown",
   "id": "9360e2d4-0ddc-4e17-b1e1-ecf15eedd78c",
   "metadata": {},
   "source": [
    "## 2. BRAC2 mRNA"
   ]
  },
  {
   "cell_type": "code",
   "execution_count": 6,
   "id": "3740c084-9629-40a6-a593-b8c599fa2810",
   "metadata": {},
   "outputs": [
    {
     "name": "stdout",
     "output_type": "stream",
     "text": [
      "gggtgcgacgattcattgttttcggacaagtggataggcaaccactaccggtggattgtc\n",
      "\n",
      "GGGTGCGACGATTCATTGTTTTCGGACAAGTGGATAGGCAACCACTACCGGTGGATTGTC\n"
     ]
    }
   ],
   "source": [
    "s = 'gggtgcgacg attcattgtt ttcggacaag tggataggca accactaccg gtggattgtc'.replace(' ', '')\n",
    "\n",
    "print(s)\n",
    "print()\n",
    "print(str.upper(s))"
   ]
  },
  {
   "cell_type": "markdown",
   "id": "c2982171-5c23-42ec-9363-89de848d6a38",
   "metadata": {},
   "source": [
    "## 3. List of codons for acidic acids"
   ]
  },
  {
   "cell_type": "code",
   "execution_count": 3,
   "id": "22511a9d-2b23-403e-b7b4-cdce5231151f",
   "metadata": {},
   "outputs": [
    {
     "name": "stdout",
     "output_type": "stream",
     "text": [
      "GAA\n",
      "GAG\n",
      "GAT\n",
      "GAC\n"
     ]
    }
   ],
   "source": [
    "codon_list = ['GAA', 'GAG', 'GAT', 'GAC']\n",
    "\n",
    "for codon in codon_list:\n",
    "    print(codon)"
   ]
  },
  {
   "cell_type": "markdown",
   "id": "d6b30859-99ae-44f5-9f2c-37f64d4ef61f",
   "metadata": {},
   "source": [
    "## 4. append() and pop()"
   ]
  },
  {
   "cell_type": "code",
   "execution_count": null,
   "id": "d85292b2-c2f0-4b64-b25d-232b73250d6f",
   "metadata": {},
   "outputs": [],
   "source": [
    "codon_list = []\n",
    "\n",
    "codon_list.append('GAT')\n",
    "\n",
    "last_element = codon_list.pop()"
   ]
  },
  {
   "cell_type": "markdown",
   "id": "09b46bf1-9cd4-42dd-b9d3-e8306d3133a8",
   "metadata": {},
   "source": [
    "## 5. Sorting a list of strings"
   ]
  },
  {
   "cell_type": "code",
   "execution_count": 4,
   "id": "267fc045-bf6d-4d79-bd9a-8474a8404a3e",
   "metadata": {},
   "outputs": [
    {
     "name": "stdout",
     "output_type": "stream",
     "text": [
      "GAA\n",
      "GAC\n",
      "GAG\n",
      "GAT\n"
     ]
    }
   ],
   "source": [
    "codon_list = ['GAA', 'GAG', 'GAT', 'GAC']\n",
    "\n",
    "for codon in sorted(codon_list):\n",
    "    print(codon)"
   ]
  },
  {
   "cell_type": "markdown",
   "id": "c4703b34-b720-4a16-ab39-450cdfbe385e",
   "metadata": {},
   "source": [
    "## 6. Sorting(In-place) a list of numbers"
   ]
  },
  {
   "cell_type": "code",
   "execution_count": 12,
   "id": "a54d1623-25b0-4758-b444-9c55e29078cc",
   "metadata": {},
   "outputs": [
    {
     "name": "stdout",
     "output_type": "stream",
     "text": [
      "[-3.1, 0, 2, 13, 21, 21, 33]\n",
      "[33, 21, 21, 13, 2, 0, -3.1]\n"
     ]
    }
   ],
   "source": [
    "numbers = [21, 13, 0, -3.1, 21, 33, 2]\n",
    "\n",
    "numbers.sort()\n",
    "print(numbers)\n",
    "numbers.sort(reverse=True)\n",
    "print(numbers)"
   ]
  },
  {
   "cell_type": "markdown",
   "id": "0a7a52fe-db0a-4c48-8a15-0351257eb985",
   "metadata": {},
   "source": [
    "## 7. Dictionary of codons for acidic acids"
   ]
  },
  {
   "cell_type": "code",
   "execution_count": 6,
   "id": "ca300261-c978-482e-9ed4-a6bad2c01294",
   "metadata": {
    "scrolled": true
   },
   "outputs": [
    {
     "name": "stdout",
     "output_type": "stream",
     "text": [
      "GAA\n",
      "GAC\n",
      "GAG\n",
      "GAT\n",
      "\n",
      "Glutamic acid\n",
      "Aspartic acid\n",
      "Glutamic acid\n",
      "Aspartic acid\n"
     ]
    }
   ],
   "source": [
    "aa = {'GAA': 'Glutamic acid',\n",
    " 'GAC': 'Aspartic acid',\n",
    " 'GAG': 'Glutamic acid',\n",
    " 'GAT': 'Aspartic acid'}\n",
    "\n",
    "for key in aa.keys():\n",
    "    print(key)\n",
    "\n",
    "print()\n",
    "\n",
    "for value in aa.values():\n",
    "    print(value)"
   ]
  },
  {
   "cell_type": "markdown",
   "id": "d5e348f4-95f6-44e7-aa84-362873b261db",
   "metadata": {},
   "source": [
    "## 8. Dictionary of codons for all amino acids"
   ]
  },
  {
   "cell_type": "code",
   "execution_count": 8,
   "id": "8ca07137-6b68-4e29-a342-d2ff1b31d3cb",
   "metadata": {},
   "outputs": [],
   "source": [
    "# DNA codons\n",
    "aa = {'AAA': 'Lysine',\n",
    " 'AAC': 'Asparagine',\n",
    " 'AAG': 'Lysine',\n",
    " 'AAT': 'Asparagine',\n",
    " 'ACA': 'Threonine',\n",
    " 'ACC': 'Threonine',\n",
    " 'ACG': 'Threonine',\n",
    " 'ACT': 'Threonine',\n",
    " 'AGA': 'Arginine',\n",
    " 'AGC': 'Serine',\n",
    " 'AGG': 'Arginine',\n",
    " 'AGT': 'Serine',\n",
    " 'ATA': 'Isoleucine',\n",
    " 'ATC': 'Isoleucine',\n",
    " 'ATG': 'Methionine',\n",
    " 'ATT': 'Isoleucine',\n",
    " 'CAA': 'Glutamine',\n",
    " 'CAC': 'Histidine',\n",
    " 'CAG': 'Glutamine',\n",
    " 'CAT': 'Histidine',\n",
    " 'CCA': 'Proline',\n",
    " 'CCC': 'Proline',\n",
    " 'CCG': 'Proline',\n",
    " 'CCT': 'Proline',\n",
    " 'CGA': 'Arginine',\n",
    " 'CGC': 'Arginine',\n",
    " 'CGG': 'Arginine',\n",
    " 'CGT': 'Arginine',\n",
    " 'CTA': 'Leucine',\n",
    " 'CTC': 'Leucine',\n",
    " 'CTG': 'Leucine',\n",
    " 'CTT': 'Leucine',\n",
    " 'GAA': 'Glutamic acid',\n",
    " 'GAC': 'Aspartic acid',\n",
    " 'GAG': 'Glutamic acid',\n",
    " 'GAT': 'Aspartic acid',\n",
    " 'GCA': 'Alanine',\n",
    " 'GCC': 'Alanine',\n",
    " 'GCG': 'Alanine',\n",
    " 'GCT': 'Alanine',\n",
    " 'GGA': 'Glycine',\n",
    " 'GGC': 'Glycine',\n",
    " 'GGG': 'Glycine',\n",
    " 'GGT': 'Glycine',\n",
    " 'GTA': 'Valine',\n",
    " 'GTC': 'Valine',\n",
    " 'GTG': 'Valine',\n",
    " 'GTT': 'Valine',\n",
    " 'TAA': 'Stop codons',\n",
    " 'TAC': 'Tyrosine',\n",
    " 'TAG': 'Stop codons',\n",
    " 'TAT': 'Tyrosine',\n",
    " 'TCA': 'Serine',\n",
    " 'TCC': 'Serine',\n",
    " 'TCG': 'Serine',\n",
    " 'TCT': 'Serine',\n",
    " 'TGA': 'Stop codons',\n",
    " 'TGC': 'Cysteine',\n",
    " 'TGG': 'Tryptophan',\n",
    " 'TGT': 'Cysteine',\n",
    " 'TTA': 'Leucine',\n",
    " 'TTC': 'Phenylalanine',\n",
    " 'TTG': 'Leucine',\n",
    " 'TTT': 'Phenylalanine'}"
   ]
  },
  {
   "cell_type": "markdown",
   "id": "85825c80-8d64-432c-8d9f-40cab8d62bda",
   "metadata": {},
   "source": [
    "## 9. Sorting a dictionary by keys or by values"
   ]
  },
  {
   "cell_type": "code",
   "execution_count": 12,
   "id": "d8fa5755-243e-4bac-9153-bb87407629aa",
   "metadata": {},
   "outputs": [
    {
     "name": "stdout",
     "output_type": "stream",
     "text": [
      "GCA - Alanine\n",
      "GCC - Alanine\n",
      "GCG - Alanine\n",
      "GCT - Alanine\n",
      "AGA - Arginine\n",
      "AGG - Arginine\n",
      "CGA - Arginine\n",
      "CGC - Arginine\n",
      "CGG - Arginine\n",
      "CGT - Arginine\n",
      "AAC - Asparagine\n",
      "AAT - Asparagine\n",
      "GAC - Aspartic acid\n",
      "GAT - Aspartic acid\n",
      "TGC - Cysteine\n",
      "TGT - Cysteine\n",
      "GAA - Glutamic acid\n",
      "GAG - Glutamic acid\n",
      "CAA - Glutamine\n",
      "CAG - Glutamine\n",
      "GGA - Glycine\n",
      "GGC - Glycine\n",
      "GGG - Glycine\n",
      "GGT - Glycine\n",
      "CAC - Histidine\n",
      "CAT - Histidine\n",
      "ATA - Isoleucine\n",
      "ATC - Isoleucine\n",
      "ATT - Isoleucine\n",
      "CTA - Leucine\n",
      "CTC - Leucine\n",
      "CTG - Leucine\n",
      "CTT - Leucine\n",
      "TTA - Leucine\n",
      "TTG - Leucine\n",
      "AAA - Lysine\n",
      "AAG - Lysine\n",
      "ATG - Methionine\n",
      "TTC - Phenylalanine\n",
      "TTT - Phenylalanine\n",
      "CCA - Proline\n",
      "CCC - Proline\n",
      "CCG - Proline\n",
      "CCT - Proline\n",
      "AGC - Serine\n",
      "AGT - Serine\n",
      "TCA - Serine\n",
      "TCC - Serine\n",
      "TCG - Serine\n",
      "TCT - Serine\n",
      "TAA - Stop codons\n",
      "TAG - Stop codons\n",
      "TGA - Stop codons\n",
      "ACA - Threonine\n",
      "ACC - Threonine\n",
      "ACG - Threonine\n",
      "ACT - Threonine\n",
      "TGG - Tryptophan\n",
      "TAC - Tyrosine\n",
      "TAT - Tyrosine\n",
      "GTA - Valine\n",
      "GTC - Valine\n",
      "GTG - Valine\n",
      "GTT - Valine\n"
     ]
    }
   ],
   "source": [
    "byValues = sorted(aa.items(), key=lambda item: item[1])\n",
    "\n",
    "for k, v in byValues:\n",
    "    print(f'{k} - {v}')"
   ]
  }
 ],
 "metadata": {
  "kernelspec": {
   "display_name": "Python 3 (ipykernel)",
   "language": "python",
   "name": "python3"
  },
  "language_info": {
   "codemirror_mode": {
    "name": "ipython",
    "version": 3
   },
   "file_extension": ".py",
   "mimetype": "text/x-python",
   "name": "python",
   "nbconvert_exporter": "python",
   "pygments_lexer": "ipython3",
   "version": "3.11.4"
  }
 },
 "nbformat": 4,
 "nbformat_minor": 5
}
