{
 "cells": [
  {
   "cell_type": "markdown",
   "id": "7d33bb9f-f69e-4b63-9a54-d37396f61aa3",
   "metadata": {},
   "source": [
    "# Introduction to Python - Exercises I"
   ]
  },
  {
   "cell_type": "markdown",
   "id": "3e7cd9b2-4a80-4601-ac98-d73dd39bf30a",
   "metadata": {},
   "source": [
    "## 1 ASCII art"
   ]
  },
  {
   "cell_type": "code",
   "execution_count": 2,
   "id": "8638612e-97b5-4e31-bf51-8a8654d664df",
   "metadata": {},
   "outputs": [
    {
     "name": "stdout",
     "output_type": "stream",
     "text": [
      "\n",
      " __\n",
      "|  \\   |\\ |    /\\ \n",
      "|__/   | \\|   /--\\\n",
      "\n"
     ]
    }
   ],
   "source": [
    "art = r'''\n",
    " __\n",
    "|  \\   |\\ |    /\\ \n",
    "|__/   | \\|   /--\\\n",
    "'''\n",
    "\n",
    "print(art)"
   ]
  },
  {
   "cell_type": "markdown",
   "id": "ed71d1ec-b2d6-4cdd-9273-f0b1694455c4",
   "metadata": {},
   "source": [
    "## 2. Finding Bugs"
   ]
  },
  {
   "cell_type": "code",
   "execution_count": 2,
   "id": "a7899331-318e-462d-a154-1512c4eabfb0",
   "metadata": {},
   "outputs": [
    {
     "name": "stdout",
     "output_type": "stream",
     "text": [
      "The first 20 bp of BRAC2 gene are gggtgcgacgattcattgtt\n"
     ]
    }
   ],
   "source": [
    "# Please correct my errors. \n",
    "first_10_bp = \"gggtgcgacg\"\n",
    "second_10_bp = \"attcattgtt\"\n",
    "gene = first_10_bp + second_10_bp\n",
    "\n",
    "print(f'The first 20 bp of BRAC2 gene are {gene}')"
   ]
  },
  {
   "cell_type": "markdown",
   "id": "d9edc49d-b662-424f-98bf-b44ce0e99a20",
   "metadata": {},
   "source": [
    "## 3. Pretty Prints"
   ]
  },
  {
   "cell_type": "code",
   "execution_count": 3,
   "id": "345aaa0d-9eff-4368-9014-6fef8756c0a2",
   "metadata": {},
   "outputs": [
    {
     "name": "stdout",
     "output_type": "stream",
     "text": [
      "     Amino acid   1-letter      codon\n",
      "--------------- ---------- ----------\n",
      "         Serine          S        AGT\n",
      "                                  AGC\n",
      "        Cyteine          C        TGT\n"
     ]
    }
   ],
   "source": [
    "data = (('Amino acid', '1-letter', 'codon'), ('-' * 15, '-' * 10, '-' * 10), ('Serine', 'S', 'AGT'), ('', '', 'AGC'), ('Cyteine', 'C', 'TGT'))\n",
    "\n",
    "for i in data:\n",
    "    print(f'{i[0]:>15} {i[1]:>10} {i[2]:>10}')"
   ]
  }
 ],
 "metadata": {
  "kernelspec": {
   "display_name": "Python 3 (ipykernel)",
   "language": "python",
   "name": "python3"
  },
  "language_info": {
   "codemirror_mode": {
    "name": "ipython",
    "version": 3
   },
   "file_extension": ".py",
   "mimetype": "text/x-python",
   "name": "python",
   "nbconvert_exporter": "python",
   "pygments_lexer": "ipython3",
   "version": "3.11.4"
  }
 },
 "nbformat": 4,
 "nbformat_minor": 5
}
