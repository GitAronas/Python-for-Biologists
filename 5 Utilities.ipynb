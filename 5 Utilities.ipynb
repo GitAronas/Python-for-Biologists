{
 "cells": [
  {
   "cell_type": "markdown",
   "id": "c1267b87-1ce1-4106-a818-ab9bbf86733b",
   "metadata": {},
   "source": [
    "# Utilities - Exercises V"
   ]
  },
  {
   "cell_type": "markdown",
   "id": "71ffc82b-5cb7-4d4a-a11c-b2e08ee9a830",
   "metadata": {},
   "source": [
    "## 1. Keyboard inputs"
   ]
  },
  {
   "cell_type": "code",
   "execution_count": 2,
   "id": "656a0a9c-28aa-4177-99e9-e3521a8c27e2",
   "metadata": {},
   "outputs": [
    {
     "name": "stdin",
     "output_type": "stream",
     "text": [
      "Enter a DNA sequence:  GTTCAAGG\n",
      "Enter a second shorter DNA sequence:  TAAG\n"
     ]
    },
    {
     "name": "stdout",
     "output_type": "stream",
     "text": [
      "\n",
      "Second sequence is not a substring of the first string.\n"
     ]
    }
   ],
   "source": [
    "DNA_Sequence = input('Enter a DNA sequence: ')\n",
    "\n",
    "Second_Shorter_Sequence = input('Enter a second shorter DNA sequence: ')\n",
    "\n",
    "print()\n",
    "\n",
    "if Second_Shorter_Sequence in DNA_Sequence:\n",
    "    print('Second sequence is a substring of the first string.')\n",
    "else:\n",
    "    print('Second sequence is not a substring of the first string.')"
   ]
  },
  {
   "cell_type": "markdown",
   "id": "d0796391-1aea-4e48-9a0b-d73af7b34f26",
   "metadata": {},
   "source": [
    "## 2. Arguments as input"
   ]
  },
  {
   "cell_type": "code",
   "execution_count": 7,
   "id": "f01dac4d-555b-4b68-bb66-6818b77b2605",
   "metadata": {},
   "outputs": [],
   "source": [
    "import sys\n",
    "\n",
    "if len(sys.argv) == 1:\n",
    "    print('Please provide two strings as command-line arguments')\n",
    "elif sys.argv[1] in sys.argv[0]:\n",
    "    print('The second argument is a substring of the first argument')"
   ]
  },
  {
   "cell_type": "markdown",
   "id": "6a128b7c-8c6a-4c81-b6b5-2ea0655e939e",
   "metadata": {},
   "source": [
    "## 3. What does it do?"
   ]
  },
  {
   "cell_type": "code",
   "execution_count": null,
   "id": "5ffe18ea-64a6-401d-9f56-c6055951eb76",
   "metadata": {},
   "outputs": [],
   "source": [
    "import sys \n",
    " \n",
    "text = \"\"\n",
    "\n",
    "while 1:\n",
    "   c = sys.stdin.read(1)\n",
    "   text = text + c\n",
    "   if c == '\\n':\n",
    "       break\n",
    " \n",
    "print(\"Input: %s\" % text)"
   ]
  },
  {
   "cell_type": "markdown",
   "id": "ae9c6f5f-a685-4c5d-a3eb-af936cc45419",
   "metadata": {},
   "source": [
    "It accepts arbitrary input till the user presses Enter."
   ]
  },
  {
   "cell_type": "markdown",
   "id": "47449ac0-51fa-4117-a269-87f43eaef0a8",
   "metadata": {},
   "source": [
    "## 4. Where is my number?"
   ]
  },
  {
   "cell_type": "code",
   "execution_count": 8,
   "id": "786e5c21-7f73-4381-bd92-fe734bc2f2d0",
   "metadata": {},
   "outputs": [
    {
     "name": "stdin",
     "output_type": "stream",
     "text": [
      "Please type a codon:  ATC\n"
     ]
    },
    {
     "name": "stdout",
     "output_type": "stream",
     "text": [
      "Your codon is:  ATC\n",
      "\n"
     ]
    },
    {
     "name": "stdin",
     "output_type": "stream",
     "text": [
      "Please type a starting index:  45\n",
      "Please type an ending index:  A\n"
     ]
    },
    {
     "name": "stdout",
     "output_type": "stream",
     "text": [
      "ValueError - invalid literal for int() with base 10: 'A'\n"
     ]
    }
   ],
   "source": [
    "codon = input('Please type a codon: ')\n",
    "print('Your codon is: ', codon)\n",
    "\n",
    "print()\n",
    "\n",
    "# Input returns a string\n",
    "starting_index = input('Please type a starting index: ')\n",
    "ending_index = input('Please type an ending index: ')\n",
    " \n",
    "# Must cast string inputs to int or float for arithmetical operations\n",
    "try:\n",
    "    number_of_bps = int(ending_index) - int(starting_index)\n",
    "except ValueError as e:\n",
    "    print(f'\\n{type(e).__name__} - {e}')\n",
    "else:\n",
    "    print('I will compute the number of bps in this region...')\n",
    "    print('The number of bps is:', number_of_bps)"
   ]
  },
  {
   "cell_type": "markdown",
   "id": "9d731b1c-7e5a-4e1b-af7a-4049bd98dd02",
   "metadata": {},
   "source": [
    "## 5. A function returning a random sequence"
   ]
  },
  {
   "cell_type": "code",
   "execution_count": 1,
   "id": "e84cf19e-0974-46cb-ad52-9f576a4faa09",
   "metadata": {},
   "outputs": [
    {
     "name": "stdin",
     "output_type": "stream",
     "text": [
      "Please enter the length of the random DNA sequence:  50\n"
     ]
    },
    {
     "name": "stdout",
     "output_type": "stream",
     "text": [
      "\n",
      "CTTAAATATACTTTGAGCTGGGGTCCTTATTGACGCCTATGGAAAAGTGA\n"
     ]
    }
   ],
   "source": [
    "from random import choice\n",
    "\n",
    "def randomDNA(dnalen):\n",
    "    s = []\n",
    "\n",
    "    p = ('A', 'C', 'G', 'T')\n",
    "\n",
    "    for _ in range(dnalen):\n",
    "        s.append(choice(p))\n",
    "\n",
    "    return ''.join(s)\n",
    "\n",
    "DNAlen = int(input('Please enter the length of the random DNA sequence: '))\n",
    "\n",
    "print()\n",
    "print(randomDNA(DNAlen))"
   ]
  },
  {
   "cell_type": "markdown",
   "id": "2f82d906-8a0c-4c4a-a287-05bd939f8752",
   "metadata": {},
   "source": [
    "## 6. A function for growth of Florida sandhill cranes"
   ]
  },
  {
   "cell_type": "markdown",
   "id": "f024810f-d331-44c0-8312-3716c66212c2",
   "metadata": {},
   "source": [
    "\\begin{align*}\n",
    "\tp_1 &= p_0 + p_0 \\cdot r\n",
    "\\\\\t\t&= p_0 (1 + r)\n",
    "\\\\\tp_2 &= p_1 (1 + r)\n",
    "\\\\\t\t&= \\left(p_0 (1 + r)\\right)(1 + r)\n",
    "\\\\\t\t&= p_0 (1 + r)^2\n",
    "\\\\ \\therefore p_t &= p_0 (1 + r)^t\n",
    "\\end{align*}"
   ]
  },
  {
   "cell_type": "code",
   "execution_count": 4,
   "id": "bd25dabc-14b9-43b4-b310-2feba5b28a2a",
   "metadata": {},
   "outputs": [
    {
     "name": "stdout",
     "output_type": "stream",
     "text": [
      "≅ 727\n"
     ]
    }
   ],
   "source": [
    "def popSize(initial_population_size, growth_rate, number_of_years):\n",
    "    return initial_population_size * (1 + growth_rate/100) ** number_of_years\n",
    "\n",
    "print(f'≅ {int(popSize(425, 1.94, 28))}')"
   ]
  },
  {
   "cell_type": "markdown",
   "id": "db96faac-21a1-4976-abed-ad4fa16aedbf",
   "metadata": {},
   "source": [
    "## 7. Modules"
   ]
  },
  {
   "cell_type": "code",
   "execution_count": null,
   "id": "8e69e236-1770-41c4-b4fc-4687ef75f2f9",
   "metadata": {},
   "outputs": [],
   "source": [
    "# Code in the module\n",
    "\n",
    "def DNAtoRNA(DNA: str) -> str:\n",
    "\treturn DNA.translate(str.maketrans('tT', 'uU'))\n",
    "\n",
    "\n",
    "def RNAtoDNA(RNA: str) -> str:\n",
    "\treturn RNA.translate(str.maketrans('uU', 'tT'))\n"
   ]
  },
  {
   "cell_type": "code",
   "execution_count": 15,
   "id": "dba7b0ad-7b83-4717-9e94-0fa1ec7f213f",
   "metadata": {},
   "outputs": [
    {
     "name": "stdout",
     "output_type": "stream",
     "text": [
      "CGTTCGGCACATtcgatagctgcg\n",
      "\n",
      "CGUUCGGCACAUucgauagcugcg\n",
      "\n",
      "CGTTCGGCACATtcgatagctgcg\n"
     ]
    }
   ],
   "source": [
    "DNA = 'cgttcggcacattcgatagctgcg'\n",
    "DNA = (DNA.upper())[:12] + DNA[12:]\n",
    "\n",
    "from dna_rna import DNAtoRNA, RNAtoDNA\n",
    "\n",
    "print(DNA)\n",
    "print()\n",
    "RNA = DNAtoRNA(DNA)\n",
    "print(RNA)\n",
    "print()\n",
    "cDNA = RNAtoDNA(RNA) \n",
    "print(cDNA)"
   ]
  },
  {
   "cell_type": "markdown",
   "id": "b100ebb6-fb8c-404d-9211-bb5062db2fd2",
   "metadata": {},
   "source": [
    "## 8. Percentages"
   ]
  },
  {
   "cell_type": "code",
   "execution_count": 2,
   "id": "e0f72759-a79b-4600-b269-25a6ed530ef4",
   "metadata": {},
   "outputs": [
    {
     "name": "stdout",
     "output_type": "stream",
     "text": [
      "C : 29.17%\n",
      "G : 29.17%\n",
      "T : 25.00%\n",
      "A : 16.67%\n"
     ]
    }
   ],
   "source": [
    "DNA = 'cgttcggcacattcgatagctgcg'\n",
    "DNA = (DNA.upper())[:12] + DNA[12:]\n",
    "\n",
    "from collections import Counter\n",
    "\n",
    "dnalen = len(DNA)\n",
    "counts = Counter(DNA.upper())\n",
    "\n",
    "for k, v in counts.items():\n",
    "    print(f'{k} : {v / dnalen:.2%}')"
   ]
  },
  {
   "cell_type": "markdown",
   "id": "299e6c24-83a4-49e2-90bb-36bcff13491a",
   "metadata": {},
   "source": [
    "## 9. Reverse complement"
   ]
  },
  {
   "cell_type": "code",
   "execution_count": 5,
   "id": "a6f3cd79-2d92-4249-b78a-ad0f0481ffd3",
   "metadata": {},
   "outputs": [
    {
     "name": "stdout",
     "output_type": "stream",
     "text": [
      "TACGTCCCCTTTGTACTAAGTCCTG\n"
     ]
    }
   ],
   "source": [
    "DNA = 'ATGCAGGGGAAACATGATTCAGGAC'\n",
    "\n",
    "def revCom(dna):\n",
    "    return DNA.translate(str.maketrans('acgtACGT', 'tgcaTGCA'))\n",
    "\n",
    "print(revCom(DNA))"
   ]
  },
  {
   "cell_type": "markdown",
   "id": "0dd4d53a-e52e-4902-966e-b9474fe4778a",
   "metadata": {},
   "source": [
    "## 10. Two parameters"
   ]
  },
  {
   "cell_type": "code",
   "execution_count": 6,
   "id": "308b2457-debb-4a94-bfa4-9717068e26da",
   "metadata": {},
   "outputs": [
    {
     "name": "stdout",
     "output_type": "stream",
     "text": [
      "9\n"
     ]
    }
   ],
   "source": [
    "DNA = 'ATGCAGGGGAAACATGATTCAGGAC'\n",
    "\n",
    "n = 'A'\n",
    "\n",
    "def findNu(dna, nucleotide):\n",
    "    return dna.count(nucleotide)\n",
    "\n",
    "print(findNu(DNA, n))"
   ]
  },
  {
   "cell_type": "markdown",
   "id": "407ffd0a-a0e7-4b09-a1e7-1ef25bbf8e35",
   "metadata": {},
   "source": [
    "## 11. Documentation Strings"
   ]
  },
  {
   "cell_type": "code",
   "execution_count": null,
   "id": "98539b56-f6aa-4a88-bd65-9c09c46d2825",
   "metadata": {},
   "outputs": [],
   "source": [
    "def findNu(dna, nucleotide):\n",
    "    \"\"\"\n",
    "    a Python function that takes a DNA\n",
    "    sequence as a string and a nucleotide\n",
    "    and returns the number of occurrences\n",
    "    of the nucleotide in the sequence.\n",
    "    \"\"\"\n",
    "    \n",
    "    return dna.count(nucleotide)\n"
   ]
  }
 ],
 "metadata": {
  "kernelspec": {
   "display_name": "Python 3 (ipykernel)",
   "language": "python",
   "name": "python3"
  },
  "language_info": {
   "codemirror_mode": {
    "name": "ipython",
    "version": 3
   },
   "file_extension": ".py",
   "mimetype": "text/x-python",
   "name": "python",
   "nbconvert_exporter": "python",
   "pygments_lexer": "ipython3",
   "version": "3.11.4"
  }
 },
 "nbformat": 4,
 "nbformat_minor": 5
}
