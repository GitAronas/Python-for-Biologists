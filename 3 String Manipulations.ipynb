{
 "cells": [
  {
   "cell_type": "markdown",
   "id": "6347845c-af1d-4763-bfa2-2715d68b79ec",
   "metadata": {},
   "source": [
    "# String Manipulations - Exercises III"
   ]
  },
  {
   "cell_type": "markdown",
   "id": "389a47d1-a702-40e2-8e41-87b3c70ae619",
   "metadata": {},
   "source": [
    "## 1. Codons in a list"
   ]
  },
  {
   "cell_type": "code",
   "execution_count": 2,
   "id": "94a0d3cb-245b-4b0f-af05-3c85f6656953",
   "metadata": {},
   "outputs": [
    {
     "name": "stdout",
     "output_type": "stream",
     "text": [
      "GACTCCGCAATGGGG\n",
      "GAC\tTCC\tGCA\tATG\tGGG\t"
     ]
    }
   ],
   "source": [
    "DNA = 'GACTCCGCAATGGGG'\n",
    "\n",
    "codons = []\n",
    "\n",
    "for i in range(0, len(DNA) - 2, 3):\n",
    "    codons.append(DNA[i: i + 3])\n",
    "\n",
    "print(DNA)\n",
    "\n",
    "for c in codons:\n",
    "    print(c, end='\\t')"
   ]
  },
  {
   "cell_type": "markdown",
   "id": "154d9a47-0aee-45c7-bcc3-a41501b49e3f",
   "metadata": {},
   "source": [
    "## 2. Fore-and-aft"
   ]
  },
  {
   "cell_type": "code",
   "execution_count": 16,
   "id": "24f4a4cf-68fe-4cb0-838c-3f480819314b",
   "metadata": {},
   "outputs": [
    {
     "name": "stdout",
     "output_type": "stream",
     "text": [
      "First three codons:\tggg\n",
      "\n",
      "Last three codons:\tgtc\n"
     ]
    }
   ],
   "source": [
    "s = 'gggtgcgacg attcattgtt ttcggacaag tggataggca accactaccg gtggattgtc'\n",
    "\n",
    "print(f'First three codons:\\t{s[:3]}')\n",
    "print()\n",
    "print(f'Last three codons:\\t{s[-3:]}')"
   ]
  },
  {
   "cell_type": "markdown",
   "id": "f2a0a721-1c00-4a30-a6dc-c26cc4afe72c",
   "metadata": {},
   "source": [
    "## 3. Finding motifs"
   ]
  },
  {
   "cell_type": "code",
   "execution_count": 5,
   "id": "90b93ceb-7cfa-4b9b-ad22-3f7f35de336a",
   "metadata": {},
   "outputs": [
    {
     "name": "stdout",
     "output_type": "stream",
     "text": [
      "Lower case:   0\n",
      "Upper case:  -4\n",
      "miXed case:  25\n",
      "Mixed case: -29\n",
      "MiXed case:  30\n"
     ]
    }
   ],
   "source": [
    "s = 'GACGTCGCCAGAGAggcataTAACGATAtgacacagagagagcaGAGACAAGT'\n",
    "\n",
    "print(f\"Lower case: {s.rfind('agag') - s.find('agag') - 4:>3}\")\n",
    "print(f\"Upper case: {s.rfind('AGAG') - s.find('AGAG') - 4:>3}\")\n",
    "print(f\"miXed case: {s.rfind('agag') - s.find('AGAG') - 4:>3}\")\n",
    "print(f\"Mixed case: {s.rfind('AGAG') - s.find('agag') - 4:>3}\")\n",
    "s = s.upper()\n",
    "print(f\"MiXed case: {s.rfind('AGAG') - s.find('AGAG') - 4:>3}\")"
   ]
  },
  {
   "cell_type": "markdown",
   "id": "bd0b1b89-bc79-41c3-9fc1-d9eb4b77bc2f",
   "metadata": {},
   "source": [
    "## 4. Reverse complement"
   ]
  },
  {
   "cell_type": "code",
   "execution_count": 30,
   "id": "569ed917-f717-4e87-9bdb-2228a82a48e2",
   "metadata": {},
   "outputs": [
    {
     "name": "stdout",
     "output_type": "stream",
     "text": [
      "GACGTCGCCAGAGAggcataTAACGATAtgacacagagagagcaGAGACAAGT\n",
      "\n",
      "ACTTGTCTCtgctctctctgtgtcaTATCGTTAtatgccTCTCTGGCGACGTC\n"
     ]
    }
   ],
   "source": [
    "s = 'GACGTCGCCAGAGAggcataTAACGATAtgacacagagagagcaGAGACAAGT'\n",
    "\n",
    "print(s)\n",
    "print()\n",
    "print(s[::-1].translate(str.maketrans('acgtACGT', 'tgcaTGCA')))"
   ]
  },
  {
   "cell_type": "markdown",
   "id": "b01c628b-7e15-46ec-aa11-11b899f3c6ff",
   "metadata": {},
   "source": [
    "## 5. DNA to RNA"
   ]
  },
  {
   "cell_type": "code",
   "execution_count": 27,
   "id": "e716827b-a4e9-4871-a561-2033a990b116",
   "metadata": {},
   "outputs": [
    {
     "name": "stdout",
     "output_type": "stream",
     "text": [
      "GACGTCGCCAGAGAggcataTAACGATAtgacacagagagagcaGAGACAAGT\n",
      "|||||||||||||||||||||||||||||||||||||||||||||||||||||\n",
      "GACGUCGCCAGAGAggcauaUAACGAUAugacacagagagagcaGAGACAAGU\n"
     ]
    }
   ],
   "source": [
    "s = 'GACGTCGCCAGAGAggcataTAACGATAtgacacagagagagcaGAGACAAGT'\n",
    "\n",
    "print(s)\n",
    "print('|' * len(s))\n",
    "print(s.translate(str.maketrans('tT', 'uU')))"
   ]
  },
  {
   "cell_type": "markdown",
   "id": "efb9814d-8dd1-42c5-930f-156d43be5c8f",
   "metadata": {},
   "source": [
    "## 6. Counting base pairs"
   ]
  },
  {
   "cell_type": "code",
   "execution_count": 37,
   "id": "9a7457b3-fe8c-463b-82a1-3a8f5f9437e3",
   "metadata": {},
   "outputs": [
    {
     "name": "stdout",
     "output_type": "stream",
     "text": [
      "A: 21.67%\n",
      "C: 20.00%\n",
      "G: 31.67%\n",
      "T: 26.67%\n"
     ]
    }
   ],
   "source": [
    "s = 'gggtgcgacg attcattgtt ttcggacaag tggataggca accactaccg gtggattgtc'.replace(' ', '')\n",
    "\n",
    "l = len(s)\n",
    "\n",
    "print(f'A: {s.count(\"a\") / l:.2%}')\n",
    "print(f'C: {s.count(\"c\") / l:.2%}')\n",
    "print(f'G: {s.count(\"g\") / l:.2%}')\n",
    "print(f'T: {s.count(\"t\") / l:.2%}')"
   ]
  },
  {
   "cell_type": "markdown",
   "id": "66e542f0-93ce-48dd-90bc-db7ebf81addf",
   "metadata": {},
   "source": [
    "## 7. Modifying strings"
   ]
  },
  {
   "cell_type": "code",
   "execution_count": 44,
   "id": "8af564aa-6b0d-4f95-bd8c-0045ce4147cf",
   "metadata": {},
   "outputs": [
    {
     "name": "stdout",
     "output_type": "stream",
     "text": [
      "gggtgcgacgattcattgttttcggacaag\n",
      "gggtacgacgattcatgttttcggacaag\n"
     ]
    }
   ],
   "source": [
    "# v1\n",
    "BRAC2_seq = \"gggtgcgacgattcattgttttcggacaag\"\n",
    "\n",
    "l = []\n",
    "g = t = 0\n",
    "\n",
    "for c in BRAC2_seq:\n",
    "    if c == 'g':\n",
    "        g += 1\n",
    "        if g == 4:\n",
    "            c = 'a'\n",
    "    elif c == 't':\n",
    "        t += 1\n",
    "        if t == 4:\n",
    "            continue\n",
    "\n",
    "    l.append(c)\n",
    "\n",
    "print(BRAC2_seq)\n",
    "print(''.join(l))"
   ]
  },
  {
   "cell_type": "code",
   "execution_count": 42,
   "id": "24f6960b-12fc-4c43-ba4a-757d58ac4cad",
   "metadata": {},
   "outputs": [
    {
     "name": "stdout",
     "output_type": "stream",
     "text": [
      "gggtgcgacgattcattgttttcggacaag\n",
      "gggtacgacgattcatgttttcggacaag\n"
     ]
    }
   ],
   "source": [
    "# v2\n",
    "BRAC2_seq = \"gggtgcgacgattcattgttttcggacaag\"\n",
    "\n",
    "l = [*BRAC2_seq]\n",
    "\n",
    "g = t = 0\n",
    "\n",
    "for i, c in enumerate(l):\n",
    "    if c == 'g':\n",
    "        g += 1\n",
    "        if g == 4:\n",
    "            l[i] = 'a'\n",
    "            break\n",
    "\n",
    "for i, c in enumerate(l):\n",
    "    if c == 't':\n",
    "        t += 1\n",
    "        if t == 4:\n",
    "            break\n",
    "\n",
    "l.pop(i)\n",
    "\n",
    "print(BRAC2_seq)\n",
    "print(''.join(l))"
   ]
  }
 ],
 "metadata": {
  "kernelspec": {
   "display_name": "Python 3 (ipykernel)",
   "language": "python",
   "name": "python3"
  },
  "language_info": {
   "codemirror_mode": {
    "name": "ipython",
    "version": 3
   },
   "file_extension": ".py",
   "mimetype": "text/x-python",
   "name": "python",
   "nbconvert_exporter": "python",
   "pygments_lexer": "ipython3",
   "version": "3.11.4"
  }
 },
 "nbformat": 4,
 "nbformat_minor": 5
}
